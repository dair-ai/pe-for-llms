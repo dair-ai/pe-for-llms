{
 "cells": [
  {
   "attachments": {},
   "cell_type": "markdown",
   "metadata": {},
   "source": [
    "# Session 4 - Demo 4.3 - LLMs and External Tools"
   ]
  },
  {
   "cell_type": "code",
   "execution_count": 1,
   "metadata": {},
   "outputs": [],
   "source": [
    "%%capture\n",
    "# update or install the necessary libraries\n",
    "!pip install --upgrade openai\n",
    "!pip install --upgrade langchain\n",
    "!pip install --upgrade python-dotenv\n",
    "!pip install chromadb\n",
    "\n",
    "# load the libraries\n",
    "import openai\n",
    "import os\n",
    "import IPython\n",
    "from langchain.llms import OpenAI\n",
    "from dotenv import load_dotenv\n",
    "\n",
    "# load the environment variables\n",
    "load_dotenv()\n",
    "\n",
    "# API configuration\n",
    "openai.api_key = os.getenv(\"OPENAI_API_KEY\")\n",
    "\n",
    "# for LangChain\n",
    "os.environ[\"OPENAI_API_KEY\"] = os.getenv(\"OPENAI_API_KEY\")\n",
    "os.environ[\"SERPAPI_API_KEY\"] = os.getenv(\"SERPAPI_API_KEY\")"
   ]
  },
  {
   "cell_type": "code",
   "execution_count": 2,
   "metadata": {},
   "outputs": [],
   "source": [
    "from langchain.agents import load_tools\n",
    "from langchain.agents import initialize_agent"
   ]
  },
  {
   "cell_type": "code",
   "execution_count": 3,
   "metadata": {},
   "outputs": [
    {
     "ename": "ValueError",
     "evalue": "ZeroShotAgent does not support multi-input tool Calculator.",
     "output_type": "error",
     "traceback": [
      "\u001b[0;31m---------------------------------------------------------------------------\u001b[0m",
      "\u001b[0;31mValueError\u001b[0m                                Traceback (most recent call last)",
      "Cell \u001b[0;32mIn[3], line 4\u001b[0m\n\u001b[1;32m      1\u001b[0m llm \u001b[39m=\u001b[39m OpenAI(temperature\u001b[39m=\u001b[39m\u001b[39m0\u001b[39m)\n\u001b[1;32m      3\u001b[0m tools \u001b[39m=\u001b[39m load_tools([\u001b[39m\"\u001b[39m\u001b[39mserpapi\u001b[39m\u001b[39m\"\u001b[39m, \u001b[39m\"\u001b[39m\u001b[39mllm-math\u001b[39m\u001b[39m\"\u001b[39m], llm\u001b[39m=\u001b[39mllm)\n\u001b[0;32m----> 4\u001b[0m agent \u001b[39m=\u001b[39m initialize_agent(tools, llm, agent\u001b[39m=\u001b[39;49m\u001b[39m\"\u001b[39;49m\u001b[39mzero-shot-react-description\u001b[39;49m\u001b[39m\"\u001b[39;49m, verbose\u001b[39m=\u001b[39;49m\u001b[39mTrue\u001b[39;49;00m)\n",
      "File \u001b[0;32m~/opt/miniconda3/envs/langchain/lib/python3.9/site-packages/langchain/agents/initialize.py:52\u001b[0m, in \u001b[0;36minitialize_agent\u001b[0;34m(tools, llm, agent, callback_manager, agent_path, agent_kwargs, **kwargs)\u001b[0m\n\u001b[1;32m     50\u001b[0m     agent_cls \u001b[39m=\u001b[39m AGENT_TO_CLASS[agent]\n\u001b[1;32m     51\u001b[0m     agent_kwargs \u001b[39m=\u001b[39m agent_kwargs \u001b[39mor\u001b[39;00m {}\n\u001b[0;32m---> 52\u001b[0m     agent_obj \u001b[39m=\u001b[39m agent_cls\u001b[39m.\u001b[39;49mfrom_llm_and_tools(\n\u001b[1;32m     53\u001b[0m         llm, tools, callback_manager\u001b[39m=\u001b[39;49mcallback_manager, \u001b[39m*\u001b[39;49m\u001b[39m*\u001b[39;49magent_kwargs\n\u001b[1;32m     54\u001b[0m     )\n\u001b[1;32m     55\u001b[0m \u001b[39melif\u001b[39;00m agent_path \u001b[39mis\u001b[39;00m \u001b[39mnot\u001b[39;00m \u001b[39mNone\u001b[39;00m:\n\u001b[1;32m     56\u001b[0m     agent_obj \u001b[39m=\u001b[39m load_agent(\n\u001b[1;32m     57\u001b[0m         agent_path, llm\u001b[39m=\u001b[39mllm, tools\u001b[39m=\u001b[39mtools, callback_manager\u001b[39m=\u001b[39mcallback_manager\n\u001b[1;32m     58\u001b[0m     )\n",
      "File \u001b[0;32m~/opt/miniconda3/envs/langchain/lib/python3.9/site-packages/langchain/agents/mrkl/base.py:101\u001b[0m, in \u001b[0;36mZeroShotAgent.from_llm_and_tools\u001b[0;34m(cls, llm, tools, callback_manager, output_parser, prefix, suffix, format_instructions, input_variables, **kwargs)\u001b[0m\n\u001b[1;32m     87\u001b[0m \u001b[39m@classmethod\u001b[39m\n\u001b[1;32m     88\u001b[0m \u001b[39mdef\u001b[39;00m \u001b[39mfrom_llm_and_tools\u001b[39m(\n\u001b[1;32m     89\u001b[0m     \u001b[39mcls\u001b[39m,\n\u001b[0;32m   (...)\u001b[0m\n\u001b[1;32m     98\u001b[0m     \u001b[39m*\u001b[39m\u001b[39m*\u001b[39mkwargs: Any,\n\u001b[1;32m     99\u001b[0m ) \u001b[39m-\u001b[39m\u001b[39m>\u001b[39m Agent:\n\u001b[1;32m    100\u001b[0m \u001b[39m    \u001b[39m\u001b[39m\"\"\"Construct an agent from an LLM and tools.\"\"\"\u001b[39;00m\n\u001b[0;32m--> 101\u001b[0m     \u001b[39mcls\u001b[39;49m\u001b[39m.\u001b[39;49m_validate_tools(tools)\n\u001b[1;32m    102\u001b[0m     prompt \u001b[39m=\u001b[39m \u001b[39mcls\u001b[39m\u001b[39m.\u001b[39mcreate_prompt(\n\u001b[1;32m    103\u001b[0m         tools,\n\u001b[1;32m    104\u001b[0m         prefix\u001b[39m=\u001b[39mprefix,\n\u001b[0;32m   (...)\u001b[0m\n\u001b[1;32m    107\u001b[0m         input_variables\u001b[39m=\u001b[39minput_variables,\n\u001b[1;32m    108\u001b[0m     )\n\u001b[1;32m    109\u001b[0m     llm_chain \u001b[39m=\u001b[39m LLMChain(\n\u001b[1;32m    110\u001b[0m         llm\u001b[39m=\u001b[39mllm,\n\u001b[1;32m    111\u001b[0m         prompt\u001b[39m=\u001b[39mprompt,\n\u001b[1;32m    112\u001b[0m         callback_manager\u001b[39m=\u001b[39mcallback_manager,\n\u001b[1;32m    113\u001b[0m     )\n",
      "File \u001b[0;32m~/opt/miniconda3/envs/langchain/lib/python3.9/site-packages/langchain/agents/mrkl/base.py:125\u001b[0m, in \u001b[0;36mZeroShotAgent._validate_tools\u001b[0;34m(cls, tools)\u001b[0m\n\u001b[1;32m    123\u001b[0m \u001b[39m@classmethod\u001b[39m\n\u001b[1;32m    124\u001b[0m \u001b[39mdef\u001b[39;00m \u001b[39m_validate_tools\u001b[39m(\u001b[39mcls\u001b[39m, tools: Sequence[BaseTool]) \u001b[39m-\u001b[39m\u001b[39m>\u001b[39m \u001b[39mNone\u001b[39;00m:\n\u001b[0;32m--> 125\u001b[0m     \u001b[39msuper\u001b[39;49m()\u001b[39m.\u001b[39;49m_validate_tools(tools)\n\u001b[1;32m    126\u001b[0m     \u001b[39mfor\u001b[39;00m tool \u001b[39min\u001b[39;00m tools:\n\u001b[1;32m    127\u001b[0m         \u001b[39mif\u001b[39;00m tool\u001b[39m.\u001b[39mdescription \u001b[39mis\u001b[39;00m \u001b[39mNone\u001b[39;00m:\n",
      "File \u001b[0;32m~/opt/miniconda3/envs/langchain/lib/python3.9/site-packages/langchain/agents/agent.py:459\u001b[0m, in \u001b[0;36mAgent._validate_tools\u001b[0;34m(cls, tools)\u001b[0m\n\u001b[1;32m    457\u001b[0m \u001b[39mfor\u001b[39;00m tool \u001b[39min\u001b[39;00m tools:\n\u001b[1;32m    458\u001b[0m     \u001b[39mif\u001b[39;00m \u001b[39mnot\u001b[39;00m tool\u001b[39m.\u001b[39mis_single_input:\n\u001b[0;32m--> 459\u001b[0m         \u001b[39mraise\u001b[39;00m \u001b[39mValueError\u001b[39;00m(\n\u001b[1;32m    460\u001b[0m             \u001b[39mf\u001b[39m\u001b[39m\"\u001b[39m\u001b[39m{\u001b[39;00m\u001b[39mcls\u001b[39m\u001b[39m.\u001b[39m\u001b[39m__name__\u001b[39m\u001b[39m}\u001b[39;00m\u001b[39m does not support multi-input tool \u001b[39m\u001b[39m{\u001b[39;00mtool\u001b[39m.\u001b[39mname\u001b[39m}\u001b[39;00m\u001b[39m.\u001b[39m\u001b[39m\"\u001b[39m\n\u001b[1;32m    461\u001b[0m         )\n",
      "\u001b[0;31mValueError\u001b[0m: ZeroShotAgent does not support multi-input tool Calculator."
     ]
    }
   ],
   "source": [
    "llm = OpenAI(temperature=0)\n",
    "\n",
    "tools = load_tools([\"serpapi\", \"llm-math\"], llm=llm)\n",
    "agent = initialize_agent(tools, llm, agent=\"zero-shot-react-description\", verbose=True)"
   ]
  },
  {
   "attachments": {},
   "cell_type": "markdown",
   "metadata": {},
   "source": [
    "Issue cited here: https://github.com/hwchase17/langchain/issues/3700"
   ]
  },
  {
   "cell_type": "code",
   "execution_count": null,
   "metadata": {},
   "outputs": [],
   "source": [
    "# run the agent\n",
    "agent.run(\"Who is Olivia Wilde's boyfriend? What is his current age raised to the 0.23 power?\")"
   ]
  }
 ],
 "metadata": {
  "kernelspec": {
   "display_name": "langchain",
   "language": "python",
   "name": "python3"
  },
  "language_info": {
   "codemirror_mode": {
    "name": "ipython",
    "version": 3
   },
   "file_extension": ".py",
   "mimetype": "text/x-python",
   "name": "python",
   "nbconvert_exporter": "python",
   "pygments_lexer": "ipython3",
   "version": "3.9.16"
  },
  "orig_nbformat": 4
 },
 "nbformat": 4,
 "nbformat_minor": 2
}
