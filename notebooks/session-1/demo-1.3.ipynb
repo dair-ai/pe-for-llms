{
 "cells": [
  {
   "attachments": {},
   "cell_type": "markdown",
   "metadata": {},
   "source": [
    "# Session 4 - Demo 1.3 - Analyzing Product Reviews\n",
    "\n",
    "by Elvis Saravia\n",
    "\n",
    "We will be using the [OpenAI APIs](https://platform.openai.com/) for all examples. I am using the `text-davinci-003` model and the default settings `temperature=0.7` and `top-p=1`.\n",
    "\n",
    "<a href=\"https://colab.research.google.com/github/dair-ai/pe-for-llms/blob/main/notebooks/session-1/demo-1.3.ipynb\" target=\"_parent\"><img src=\"https://colab.research.google.com/assets/colab-badge.svg\" alt=\"Open In Colab\"/></a>"
   ]
  },
  {
   "cell_type": "code",
   "execution_count": 2,
   "metadata": {},
   "outputs": [],
   "source": [
    "%%capture\n",
    "# update or install the necessary libraries\n",
    "!pip install --upgrade openai\n",
    "!pip install --upgrade langchain\n",
    "!pip install --upgrade python-dotenv"
   ]
  },
  {
   "cell_type": "code",
   "execution_count": 1,
   "metadata": {},
   "outputs": [],
   "source": [
    "# load the libraries\n",
    "import openai\n",
    "import os\n",
    "import IPython\n",
    "from langchain.llms import OpenAI\n",
    "from dotenv import load_dotenv\n",
    "\n",
    "# load the environment variables\n",
    "load_dotenv()\n",
    "\n",
    "# API configuration\n",
    "openai.api_key = os.getenv(\"OPENAI_API_KEY\")\n",
    "\n",
    "# for LangChain\n",
    "os.environ[\"OPENAI_API_KEY\"] = os.getenv(\"OPENAI_API_KEY\")"
   ]
  },
  {
   "cell_type": "code",
   "execution_count": 2,
   "metadata": {},
   "outputs": [],
   "source": [
    "from langchain.chat_models import ChatOpenAI\n",
    "\n",
    "llm = OpenAI(model_name = \"text-davinci-003\")"
   ]
  },
  {
   "cell_type": "code",
   "execution_count": 3,
   "metadata": {},
   "outputs": [
    {
     "data": {
      "text/markdown": [
       "1. The complaint is about not receiving an order of shoes after two weeks.\n",
       "2. The intensity of the complaint is high.\n",
       "3. The customer's preferred resolution is to receive the order.\n",
       "4. The category of the complaint is shipping."
      ],
      "text/plain": [
       "<IPython.core.display.Markdown object>"
      ]
     },
     "execution_count": 3,
     "metadata": {},
     "output_type": "execute_result"
    }
   ],
   "source": [
    "prompt = \"\"\"\n",
    "Your task is to analyze customer complaints and answer questions about the complaint. Output \"NA\" if you are not able to answer the question.\n",
    "\n",
    "Complaint: {complaint}\n",
    "Questions:\n",
    "1. What is the complaint about?\n",
    "2. What is the intensity of the complaint (low, medium or high)?\n",
    "3. What is the customer's preferred resolution (if any)?\n",
    "4. What is the category of the complaint (e.g., price, quality, shipping, etc)?\n",
    "\n",
    "Answers:\n",
    "\"\"\"\n",
    "\n",
    "IPython.display.Markdown(llm(prompt.format(complaint = \"I ordered a pair of shoes two weeks ago and still haven't received them. The tracking information hasn't been updated in days and I have no idea where my package is.\")))"
   ]
  },
  {
   "cell_type": "code",
   "execution_count": 4,
   "metadata": {},
   "outputs": [
    {
     "data": {
      "text/markdown": [
       "1. The complaint is about receiving a defective product and unhelpful customer service.\n",
       "2. The intensity of the complaint is high.\n",
       "3. The customer's preferred resolution is likely a replacement or a refund.\n",
       "4. The category of the complaint is quality."
      ],
      "text/plain": [
       "<IPython.core.display.Markdown object>"
      ]
     },
     "execution_count": 4,
     "metadata": {},
     "output_type": "execute_result"
    }
   ],
   "source": [
    "IPython.display.Markdown(llm(prompt.format(complaint = \"I received a defective product and when I reached out to customer service, they were unresponsive and unhelpful. It's been a week and I still haven't received a replacement or a refund.\")))"
   ]
  },
  {
   "attachments": {},
   "cell_type": "markdown",
   "metadata": {},
   "source": [
    "Formatting the output:"
   ]
  },
  {
   "cell_type": "code",
   "execution_count": 5,
   "metadata": {},
   "outputs": [
    {
     "data": {
      "text/markdown": [
       "[{\"question\": \"What is the complaint about?\",\"answer\": \"The customer is complaining that they ordered a pair of shoes two weeks ago and still haven't received them. The tracking information hasn't been updated in days and they have no idea where the package is.\"}, {\"question\": \"What is the intensity of the complaint (low, medium or high)?\",\"answer\": \"High\"}, {\"question\": \"What is the customer's preferred resolution (if any)?\",\"answer\": \"The customer likely wants their package delivered in a timely manner, or a refund if the package has been lost.\"}, {\"question\": \"What is the category of the complaint (e.g., price, quality, shipping, etc)?\",\"answer\": \"Shipping\"}]"
      ],
      "text/plain": [
       "<IPython.core.display.Markdown object>"
      ]
     },
     "execution_count": 5,
     "metadata": {},
     "output_type": "execute_result"
    }
   ],
   "source": [
    "prompt = \"\"\"\n",
    "Your task is to analyze customer complaints and answer questions about the complaint. Output \"NA\" if you are not able to answer the question.\n",
    "\n",
    "Complaint: {complaint}\n",
    "Questions:\n",
    "1. What is the complaint about?\n",
    "2. What is the intensity of the complaint (low, medium or high)?\n",
    "3. What is the customer's preferred resolution (if any)?\n",
    "4. What is the category of the complaint (e.g., price, quality, shipping, etc)?\n",
    "\n",
    "Answers using this format {output_format}:\n",
    "\"\"\"\n",
    "\n",
    "output_format = \"\"\"[{\"question\": \"answer\"},{\"question\": \"answer\"}] \"\"\"\n",
    "\n",
    "IPython.display.Markdown(llm(prompt.format(complaint = \"I ordered a pair of shoes two weeks ago and still haven't received them. The tracking information hasn't been updated in days and I have no idea where my package is.\", output_format = output_format)))"
   ]
  }
 ],
 "metadata": {
  "kernelspec": {
   "display_name": "langchain",
   "language": "python",
   "name": "python3"
  },
  "language_info": {
   "codemirror_mode": {
    "name": "ipython",
    "version": 3
   },
   "file_extension": ".py",
   "mimetype": "text/x-python",
   "name": "python",
   "nbconvert_exporter": "python",
   "pygments_lexer": "ipython3",
   "version": "3.9.16"
  },
  "orig_nbformat": 4
 },
 "nbformat": 4,
 "nbformat_minor": 2
}
