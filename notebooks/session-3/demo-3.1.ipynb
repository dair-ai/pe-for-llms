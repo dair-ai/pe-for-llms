{
 "cells": [
  {
   "attachments": {},
   "cell_type": "markdown",
   "metadata": {},
   "source": [
    "# Session 3 | Demo 3.1 - Fine-tuning vs. Prompting \n",
    "\n",
    "by Elvis Saravia\n",
    "\n",
    "<a href=\"https://colab.research.google.com/github/dair-ai/pe-for-llms/blob/main/notebooks/session-3/demo-3.1.ipynb\" target=\"_parent\"><img src=\"https://colab.research.google.com/assets/colab-badge.svg\" alt=\"Open In Colab\"/></a>"
   ]
  },
  {
   "attachments": {},
   "cell_type": "markdown",
   "metadata": {},
   "source": [
    "The demo shows a comparison on fine-tuned results vs. few-shot learning and zero-shot learning results."
   ]
  },
  {
   "attachments": {},
   "cell_type": "markdown",
   "metadata": {},
   "source": [
    "## Using Fine-tuned models"
   ]
  },
  {
   "cell_type": "code",
   "execution_count": 2,
   "metadata": {},
   "outputs": [],
   "source": [
    "%%capture\n",
    "# update or install the necessary libraries\n",
    "!pip install --upgrade openai\n",
    "!pip install --upgrade langchain\n",
    "!pip install --upgrade python-dotenv\n",
    "\n",
    "# load libraries\n",
    "import openai\n",
    "import os\n",
    "import IPython\n",
    "from langchain.llms import OpenAI\n",
    "from dotenv import load_dotenv\n",
    "import json\n",
    "\n",
    "# load the environment variables\n",
    "load_dotenv()\n",
    "\n",
    "# set the OpenAI API key\n",
    "openai.api_key = os.getenv(\"OPENAI_API_KEY\")\n"
   ]
  },
  {
   "cell_type": "code",
   "execution_count": 25,
   "metadata": {},
   "outputs": [],
   "source": [
    "def set_open_params(\n",
    "    model=\"text-davinci-003\",\n",
    "    temperature=0.7,\n",
    "    max_tokens=256,\n",
    "    top_p=1,\n",
    "    frequency_penalty=0,\n",
    "    presence_penalty=0,\n",
    "    stop=\"\"\n",
    "):\n",
    "    \"\"\" set openai parameters\"\"\"\n",
    "\n",
    "    openai_params = {}    \n",
    "\n",
    "    openai_params['model'] = model\n",
    "    openai_params['temperature'] = temperature\n",
    "    openai_params['max_tokens'] = max_tokens\n",
    "    openai_params['top_p'] = top_p\n",
    "    openai_params['frequency_penalty'] = frequency_penalty\n",
    "    openai_params['presence_penalty'] = presence_penalty\n",
    "    openai_params['stop'] = stop\n",
    "    return openai_params\n",
    "\n",
    "def get_completion(params, prompt):\n",
    "    \"\"\" GET completion from openai api\"\"\"\n",
    "\n",
    "    response = openai.Completion.create(\n",
    "        engine = params['model'],\n",
    "        prompt = prompt,\n",
    "        temperature = params['temperature'],\n",
    "        max_tokens = params['max_tokens'],\n",
    "        top_p = params['top_p'],\n",
    "        frequency_penalty = params['frequency_penalty'],\n",
    "        presence_penalty = params['presence_penalty'],\n",
    "        stop = params['stop']\n",
    "    )\n",
    "    return response"
   ]
  },
  {
   "cell_type": "code",
   "execution_count": 28,
   "metadata": {},
   "outputs": [],
   "source": [
    "# basic example\n",
    "params = set_open_params(model=\"curie:ft-dair:emotionft-2023-04-19-23-24-21\", stop=[\"\\n\"])\n",
    "\n",
    "prompt = \"I am summer happy!\\n\\n###\\n\\n\"\n",
    "\n",
    "response = get_completion(params, prompt)"
   ]
  },
  {
   "cell_type": "code",
   "execution_count": 29,
   "metadata": {},
   "outputs": [
    {
     "data": {
      "text/plain": [
       "<OpenAIObject text_completion id=cmpl-7BtRvf88coDcK1cU49ogtdip4QJp6 at 0x7f7830ab6a90> JSON: {\n",
       "  \"choices\": [\n",
       "    {\n",
       "      \"finish_reason\": \"stop\",\n",
       "      \"index\": 0,\n",
       "      \"logprobs\": null,\n",
       "      \"text\": \" joy\"\n",
       "    }\n",
       "  ],\n",
       "  \"created\": 1683069111,\n",
       "  \"id\": \"cmpl-7BtRvf88coDcK1cU49ogtdip4QJp6\",\n",
       "  \"model\": \"curie:ft-dair:emotionft-2023-04-19-23-24-21\",\n",
       "  \"object\": \"text_completion\",\n",
       "  \"usage\": {\n",
       "    \"completion_tokens\": 1,\n",
       "    \"prompt_tokens\": 9,\n",
       "    \"total_tokens\": 10\n",
       "  }\n",
       "}"
      ]
     },
     "execution_count": 29,
     "metadata": {},
     "output_type": "execute_result"
    }
   ],
   "source": [
    "response"
   ]
  },
  {
   "cell_type": "code",
   "execution_count": 40,
   "metadata": {},
   "outputs": [],
   "source": [
    "# basic example\n",
    "params = set_open_params(model=\"text-davinci-003\")\n",
    "\n",
    "prompt = \"\"\"\n",
    "Your task is to classify a piece of text into either of the following labels: \"anger\", \"fear\", \"joy\", \"love\", \"sadness\", and \"surprise\".\n",
    "\n",
    "Just output the label as a lowercase string.\n",
    "\n",
    "Text: {text_input}\n",
    "Output:\n",
    "\"\"\"\n",
    "response = get_completion(params, prompt.format(text_input=\"I am summer happy!\"))"
   ]
  },
  {
   "cell_type": "code",
   "execution_count": 41,
   "metadata": {},
   "outputs": [
    {
     "data": {
      "text/plain": [
       "<OpenAIObject text_completion id=cmpl-7BtT5XFcaKOWZiC9HSJqLKjqHVnlv at 0x7f77f06ca040> JSON: {\n",
       "  \"choices\": [\n",
       "    {\n",
       "      \"finish_reason\": \"stop\",\n",
       "      \"index\": 0,\n",
       "      \"logprobs\": null,\n",
       "      \"text\": \"joy\"\n",
       "    }\n",
       "  ],\n",
       "  \"created\": 1683069183,\n",
       "  \"id\": \"cmpl-7BtT5XFcaKOWZiC9HSJqLKjqHVnlv\",\n",
       "  \"model\": \"text-davinci-003\",\n",
       "  \"object\": \"text_completion\",\n",
       "  \"usage\": {\n",
       "    \"completion_tokens\": 1,\n",
       "    \"prompt_tokens\": 65,\n",
       "    \"total_tokens\": 66\n",
       "  }\n",
       "}"
      ]
     },
     "execution_count": 41,
     "metadata": {},
     "output_type": "execute_result"
    }
   ],
   "source": [
    "response"
   ]
  },
  {
   "cell_type": "code",
   "execution_count": 43,
   "metadata": {},
   "outputs": [],
   "source": [
    "# import jsonl file and convert to Pandas dataframe   \n",
    "import pandas as pd\n",
    "\n",
    "df = pd.read_json(\"../data/merged_training_sample_100_prepared_valid.jsonl\", lines=True)\n"
   ]
  },
  {
   "cell_type": "code",
   "execution_count": 44,
   "metadata": {},
   "outputs": [
    {
     "data": {
      "text/html": [
       "<div>\n",
       "<style scoped>\n",
       "    .dataframe tbody tr th:only-of-type {\n",
       "        vertical-align: middle;\n",
       "    }\n",
       "\n",
       "    .dataframe tbody tr th {\n",
       "        vertical-align: top;\n",
       "    }\n",
       "\n",
       "    .dataframe thead th {\n",
       "        text-align: right;\n",
       "    }\n",
       "</style>\n",
       "<table border=\"1\" class=\"dataframe\">\n",
       "  <thead>\n",
       "    <tr style=\"text-align: right;\">\n",
       "      <th></th>\n",
       "      <th>prompt</th>\n",
       "      <th>completion</th>\n",
       "    </tr>\n",
       "  </thead>\n",
       "  <tbody>\n",
       "    <tr>\n",
       "      <th>0</th>\n",
       "      <td>i feel it has only been agitated by the presen...</td>\n",
       "      <td>fear\\n</td>\n",
       "    </tr>\n",
       "    <tr>\n",
       "      <th>1</th>\n",
       "      <td>i thought as i can often feel the rather unple...</td>\n",
       "      <td>sadness\\n</td>\n",
       "    </tr>\n",
       "    <tr>\n",
       "      <th>2</th>\n",
       "      <td>i can t hear her with all the other kids and m...</td>\n",
       "      <td>fear\\n</td>\n",
       "    </tr>\n",
       "    <tr>\n",
       "      <th>3</th>\n",
       "      <td>i am sure i will feel this longing again when ...</td>\n",
       "      <td>love\\n</td>\n",
       "    </tr>\n",
       "    <tr>\n",
       "      <th>4</th>\n",
       "      <td>i had been having sexual feelings and romantic...</td>\n",
       "      <td>love\\n</td>\n",
       "    </tr>\n",
       "    <tr>\n",
       "      <th>...</th>\n",
       "      <td>...</td>\n",
       "      <td>...</td>\n",
       "    </tr>\n",
       "    <tr>\n",
       "      <th>115</th>\n",
       "      <td>i feel bashful discussing it i m a closet game...</td>\n",
       "      <td>fear\\n</td>\n",
       "    </tr>\n",
       "    <tr>\n",
       "      <th>116</th>\n",
       "      <td>i was feeling agitated and giddy all at the sa...</td>\n",
       "      <td>fear\\n</td>\n",
       "    </tr>\n",
       "    <tr>\n",
       "      <th>117</th>\n",
       "      <td>i feel restless though and know if i close my ...</td>\n",
       "      <td>fear\\n</td>\n",
       "    </tr>\n",
       "    <tr>\n",
       "      <th>118</th>\n",
       "      <td>i report my feelings on the ex a movie about w...</td>\n",
       "      <td>fear\\n</td>\n",
       "    </tr>\n",
       "    <tr>\n",
       "      <th>119</th>\n",
       "      <td>i put it down on paper like this i don t feel ...</td>\n",
       "      <td>fear\\n</td>\n",
       "    </tr>\n",
       "  </tbody>\n",
       "</table>\n",
       "<p>120 rows × 2 columns</p>\n",
       "</div>"
      ],
      "text/plain": [
       "                                                prompt  completion\n",
       "0    i feel it has only been agitated by the presen...      fear\\n\n",
       "1    i thought as i can often feel the rather unple...   sadness\\n\n",
       "2    i can t hear her with all the other kids and m...      fear\\n\n",
       "3    i am sure i will feel this longing again when ...      love\\n\n",
       "4    i had been having sexual feelings and romantic...      love\\n\n",
       "..                                                 ...         ...\n",
       "115  i feel bashful discussing it i m a closet game...      fear\\n\n",
       "116  i was feeling agitated and giddy all at the sa...      fear\\n\n",
       "117  i feel restless though and know if i close my ...      fear\\n\n",
       "118  i report my feelings on the ex a movie about w...      fear\\n\n",
       "119  i put it down on paper like this i don t feel ...      fear\\n\n",
       "\n",
       "[120 rows x 2 columns]"
      ]
     },
     "execution_count": 44,
     "metadata": {},
     "output_type": "execute_result"
    }
   ],
   "source": [
    "df"
   ]
  },
  {
   "cell_type": "code",
   "execution_count": 47,
   "metadata": {},
   "outputs": [
    {
     "data": {
      "text/plain": [
       "['i feel it has only been agitated by the presence of the smoking\\n\\n###\\n\\n',\n",
       " 'i thought as i can often feel the rather unpleasant sensation of the babys head trying to stick out of my stomach up near my ribs\\n\\n###\\n\\n',\n",
       " 'i can t hear her with all the other kids and mums and nannies around me no dads of course but i m so used to being the only dad in a sea of mums and nannies that it doesn t even feel weird any more\\n\\n###\\n\\n',\n",
       " 'i am sure i will feel this longing again when i go visit my dear friend in the hospital and hold her new little boy in my arms but i will go home and hold my little girl and remember god has chosen this path for me for a reason and maybe one day i will be able to put this longing behind me\\n\\n###\\n\\n',\n",
       " 'i had been having sexual feelings and romantic longings for years and unlike my straight peers i had kept it all bottled up\\n\\n###\\n\\n']"
      ]
     },
     "execution_count": 47,
     "metadata": {},
     "output_type": "execute_result"
    }
   ],
   "source": [
    "df.prompt.tolist()[0:5]"
   ]
  },
  {
   "attachments": {},
   "cell_type": "markdown",
   "metadata": {},
   "source": [
    "### Predictions from our fine-tuned model"
   ]
  },
  {
   "cell_type": "code",
   "execution_count": 56,
   "metadata": {},
   "outputs": [],
   "source": [
    "params = set_open_params(model=\"curie:ft-dair:emotionft-2023-04-19-23-24-21\", stop=[\"\\n\"])\n",
    "\n",
    "prompt = \"I am summer happy!\\n\\n###\\n\\n\"\n",
    "\n",
    "response = get_completion(params, df.prompt.tolist()[0:5])"
   ]
  },
  {
   "cell_type": "code",
   "execution_count": 61,
   "metadata": {},
   "outputs": [
    {
     "name": "stdout",
     "output_type": "stream",
     "text": [
      " fear\n",
      " anger\n",
      " surprise\n",
      " love\n",
      " love\n"
     ]
    }
   ],
   "source": [
    "for c in response.choices:\n",
    "    print(c.text)"
   ]
  },
  {
   "cell_type": "code",
   "execution_count": 53,
   "metadata": {},
   "outputs": [],
   "source": [
    "# batch the prompts from df.prompt.tolist() into batches of 10\n",
    "prompt_batches = [df.prompt.tolist()[i:i + 10] for i in range(0, len(df.prompt.tolist()), 10)]"
   ]
  },
  {
   "cell_type": "code",
   "execution_count": 66,
   "metadata": {},
   "outputs": [],
   "source": [
    "params = set_open_params(model=\"curie:ft-dair:emotionft-2023-04-19-23-24-21\", stop=[\"\\n\"])\n",
    "\n",
    "finetuned_responses = []\n",
    "\n",
    "for batch in prompt_batches:\n",
    "    response = get_completion(params, batch)\n",
    "    finetuned_responses.append([c.text.strip(\" \") for c in response.choices])"
   ]
  },
  {
   "cell_type": "code",
   "execution_count": 70,
   "metadata": {},
   "outputs": [
    {
     "data": {
      "text/plain": [
       "(0        fear\\n\n",
       " 1     sadness\\n\n",
       " 2        fear\\n\n",
       " Name: completion, dtype: object,\n",
       " ['i feel it has only been agitated by the presence of the smoking\\n\\n###\\n\\n',\n",
       "  'i thought as i can often feel the rather unpleasant sensation of the babys head trying to stick out of my stomach up near my ribs\\n\\n###\\n\\n',\n",
       "  'i can t hear her with all the other kids and mums and nannies around me no dads of course but i m so used to being the only dad in a sea of mums and nannies that it doesn t even feel weird any more\\n\\n###\\n\\n'],\n",
       " ['fear', 'anger', 'surprise'])"
      ]
     },
     "execution_count": 70,
     "metadata": {},
     "output_type": "execute_result"
    }
   ],
   "source": [
    "df.completion[0:3], prompt_batches[0][0:3], finetuned_responses[0][0:3]"
   ]
  },
  {
   "attachments": {},
   "cell_type": "markdown",
   "metadata": {},
   "source": [
    "### Predictions from GPT-3 Model"
   ]
  },
  {
   "attachments": {},
   "cell_type": "markdown",
   "metadata": {},
   "source": [
    "This prompt can be improved as it sometimes outputs other emotions like relief. the way i deal with this is be mapping it after I get the responses."
   ]
  },
  {
   "cell_type": "code",
   "execution_count": 157,
   "metadata": {},
   "outputs": [],
   "source": [
    "# zero-shot prompt\n",
    "zeroshot_prompt = \"\"\"\n",
    "Your task is to classify a piece of text, delimited by triple backticks, into the following emotion labels: [\"anger\", \"fear\", \"joy\", \"love\", \"sadness\", \"surprise\"].\n",
    "\n",
    "Just output the label as a lowercase string.\n",
    "\n",
    "Text: ```{text_input}```\n",
    "Output emotion label:\n",
    "\"\"\""
   ]
  },
  {
   "cell_type": "code",
   "execution_count": 158,
   "metadata": {},
   "outputs": [],
   "source": [
    "# python double for loop comprehension list\n",
    "promptified_prompts_batches = [[zeroshot_prompt.format(text_input=prompt) for prompt in batch] for batch in prompt_batches]"
   ]
  },
  {
   "cell_type": "code",
   "execution_count": 159,
   "metadata": {},
   "outputs": [],
   "source": [
    "# ~15 seconds\n",
    "\n",
    "params = set_open_params(model=\"text-davinci-003\", temperature=0)\n",
    "\n",
    "gpt3_responses = []\n",
    "\n",
    "for batch in promptified_prompts_batches:\n",
    "    response = get_completion(params, batch)\n",
    "    gpt3_responses.append([c.text.strip(\"\\n\") for c in response.choices])"
   ]
  },
  {
   "cell_type": "code",
   "execution_count": 172,
   "metadata": {},
   "outputs": [],
   "source": [
    "# flatten the list of lists\n",
    "gpt3_responses_flat = [item for sublist in gpt3_responses for item in sublist]\n",
    "finetuned_responses_flat = [item for sublist in finetuned_responses for item in sublist]\n",
    "\n",
    "df[\"gpt3-completion\"] = gpt3_responses_flat\n",
    "df[\"finetuned-completion\"] = finetuned_responses_flat\n",
    "\n",
    "# fix the completion labels\n",
    "\n",
    "df[\"completion\"] = df[\"completion\"].apply(lambda x: x.strip(\"\\n\").strip(\" \"))"
   ]
  },
  {
   "cell_type": "code",
   "execution_count": 173,
   "metadata": {},
   "outputs": [],
   "source": [
    "# map \"relief\" to \"sadness\" for the gpt3-completion\n",
    "df[\"gpt3-completion\"] = df[\"gpt3-completion\"].apply(lambda x: \"sadness\" if x == \"relief\" else x)"
   ]
  },
  {
   "cell_type": "code",
   "execution_count": 174,
   "metadata": {},
   "outputs": [
    {
     "data": {
      "text/plain": [
       "array(['anger', 'sadness', 'love', 'joy', 'fear', 'surprise'],\n",
       "      dtype=object)"
      ]
     },
     "execution_count": 174,
     "metadata": {},
     "output_type": "execute_result"
    }
   ],
   "source": [
    "df[\"gpt3-completion\"].unique()"
   ]
  },
  {
   "cell_type": "code",
   "execution_count": 175,
   "metadata": {},
   "outputs": [
    {
     "data": {
      "text/plain": [
       "array(['fear', 'anger', 'surprise', 'love', 'joy', 'sadness'],\n",
       "      dtype=object)"
      ]
     },
     "execution_count": 175,
     "metadata": {},
     "output_type": "execute_result"
    }
   ],
   "source": [
    "df[\"finetuned-completion\"].unique()"
   ]
  },
  {
   "cell_type": "code",
   "execution_count": 183,
   "metadata": {},
   "outputs": [
    {
     "data": {
      "text/plain": [
       "fear        24\n",
       "sadness     23\n",
       "anger       22\n",
       "surprise    21\n",
       "love        15\n",
       "joy         15\n",
       "Name: completion, dtype: int64"
      ]
     },
     "execution_count": 183,
     "metadata": {},
     "output_type": "execute_result"
    }
   ],
   "source": [
    "df.completion.value_counts()"
   ]
  },
  {
   "cell_type": "code",
   "execution_count": 187,
   "metadata": {},
   "outputs": [],
   "source": [
    "# map completion labels to integers\n",
    "completion_map = {\n",
    "    \"anger\": 0,\n",
    "    \"fear\": 1,\n",
    "    \"joy\": 2,\n",
    "    \"love\": 3,\n",
    "    \"sadness\": 4,\n",
    "    \"surprise\": 5\n",
    "}\n",
    "\n",
    "df[\"completion\"] = df[\"completion\"].map(completion_map)\n",
    "df[\"gpt3-completion\"] = df[\"gpt3-completion\"].map(completion_map)\n",
    "df[\"finetuned-completion\"] = df[\"finetuned-completion\"].map(completion_map)"
   ]
  },
  {
   "cell_type": "code",
   "execution_count": 188,
   "metadata": {},
   "outputs": [],
   "source": [
    "# mapper back to string labels\n",
    "completion_map_string = {\n",
    "    0: \"anger\",\n",
    "    1: \"fear\",\n",
    "    2: \"joy\",\n",
    "    3: \"love\",\n",
    "    4: \"sadness\",\n",
    "    5: \"surprise\"\n",
    "}"
   ]
  },
  {
   "cell_type": "code",
   "execution_count": 189,
   "metadata": {},
   "outputs": [
    {
     "data": {
      "text/plain": [
       "([<matplotlib.axis.YTick at 0x7f7801b22b50>,\n",
       "  <matplotlib.axis.YTick at 0x7f7801b250d0>,\n",
       "  <matplotlib.axis.YTick at 0x7f77f0e0a8e0>,\n",
       "  <matplotlib.axis.YTick at 0x7f77f0e1be80>,\n",
       "  <matplotlib.axis.YTick at 0x7f77f0e17400>,\n",
       "  <matplotlib.axis.YTick at 0x7f77f0e217c0>],\n",
       " [Text(0, 0, 'anger'),\n",
       "  Text(0, 1, 'fear'),\n",
       "  Text(0, 2, 'joy'),\n",
       "  Text(0, 3, 'love'),\n",
       "  Text(0, 4, 'sadness'),\n",
       "  Text(0, 5, 'surprise')])"
      ]
     },
     "execution_count": 189,
     "metadata": {},
     "output_type": "execute_result"
    },
    {
     "data": {
      "image/png": "[encoded data removed]",
      "text/plain": [
       "<Figure size 600x600 with 2 Axes>"
      ]
     },
     "metadata": {},
     "output_type": "display_data"
    }
   ],
   "source": [
    "# plot confustion matrix\n",
    "from sklearn.metrics import confusion_matrix\n",
    "import seaborn as sns\n",
    "import matplotlib.pyplot as plt\n",
    "\n",
    "confusion_matrix = confusion_matrix(df[\"completion\"], df[\"gpt3-completion\"])\n",
    "\n",
    "# plot confusion matrix\n",
    "plt.figure(figsize=(6, 6))\n",
    "sns.heatmap(confusion_matrix, annot=True, fmt=\".0f\", linewidths=0.5, square=True, cmap=\"Blues_r\")\n",
    "\n",
    "# add emotion labels to confusion matrix\n",
    "plt.ylabel(\"Actual label\")\n",
    "plt.xlabel(\"Predicted label\")\n",
    "\n",
    "# annotate the confusion matrix with completion labels\n",
    "tick_marks = [i for i in range(len(completion_map_string))]\n",
    "plt.xticks(tick_marks, list(completion_map_string.values()), rotation=\"vertical\")\n",
    "plt.yticks(tick_marks, list(completion_map_string.values()), rotation=\"horizontal\")\n"
   ]
  },
  {
   "cell_type": "code",
   "execution_count": 190,
   "metadata": {},
   "outputs": [
    {
     "data": {
      "text/plain": [
       "([<matplotlib.axis.YTick at 0x7f781136f940>,\n",
       "  <matplotlib.axis.YTick at 0x7f781136f2e0>,\n",
       "  <matplotlib.axis.YTick at 0x7f7842284f10>,\n",
       "  <matplotlib.axis.YTick at 0x7f77f0ea61c0>,\n",
       "  <matplotlib.axis.YTick at 0x7f77f0eb16a0>,\n",
       "  <matplotlib.axis.YTick at 0x7f77f0eb1df0>],\n",
       " [Text(0, 0, 'anger'),\n",
       "  Text(0, 1, 'fear'),\n",
       "  Text(0, 2, 'joy'),\n",
       "  Text(0, 3, 'love'),\n",
       "  Text(0, 4, 'sadness'),\n",
       "  Text(0, 5, 'surprise')])"
      ]
     },
     "execution_count": 190,
     "metadata": {},
     "output_type": "execute_result"
    },
    {
     "data": {
      "image/png": "[encoded data removed]",
      "text/plain": [
       "<Figure size 600x600 with 2 Axes>"
      ]
     },
     "metadata": {},
     "output_type": "display_data"
    }
   ],
   "source": [
    "# plot confustion matrix\n",
    "from sklearn.metrics import confusion_matrix\n",
    "import seaborn as sns\n",
    "import matplotlib.pyplot as plt\n",
    "\n",
    "confusion_matrix = confusion_matrix(df[\"completion\"], df[\"finetuned-completion\"])\n",
    "\n",
    "# plot confusion matrix\n",
    "plt.figure(figsize=(6, 6))\n",
    "sns.heatmap(confusion_matrix, annot=True, fmt=\".0f\", linewidths=0.5, square=True, cmap=\"Blues_r\")\n",
    "\n",
    "# add emotion labels to confusion matrix\n",
    "plt.ylabel(\"Actual label\")\n",
    "plt.xlabel(\"Predicted label\")\n",
    "\n",
    "# annotate the confusion matrix with emotion labels\n",
    "tick_marks = [i for i in range(len(completion_map_string))]\n",
    "plt.xticks(tick_marks, list(completion_map_string.values()), rotation=\"vertical\")\n",
    "plt.yticks(tick_marks, list(completion_map_string.values()), rotation=\"horizontal\")"
   ]
  },
  {
   "cell_type": "markdown",
   "metadata": {},
   "source": []
  }
 ],
 "metadata": {
  "kernelspec": {
   "display_name": "langchain",
   "language": "python",
   "name": "python3"
  },
  "language_info": {
   "codemirror_mode": {
    "name": "ipython",
    "version": 3
   },
   "file_extension": ".py",
   "mimetype": "text/x-python",
   "name": "python",
   "nbconvert_exporter": "python",
   "pygments_lexer": "ipython3",
   "version": "3.9.16"
  },
  "orig_nbformat": 4
 },
 "nbformat": 4,
 "nbformat_minor": 2
}
